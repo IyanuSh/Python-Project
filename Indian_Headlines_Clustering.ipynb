{
  "nbformat": 4,
  "nbformat_minor": 0,
  "metadata": {
    "colab": {
      "name": "Indian Headlines Clustering.ipynb",
      "provenance": [],
      "collapsed_sections": [],
      "authorship_tag": "ABX9TyO8ICEdF7tEDH6taEjXiII1",
      "include_colab_link": true
    },
    "kernelspec": {
      "display_name": "Python 3",
      "name": "python3"
    },
    "language_info": {
      "name": "python"
    }
  },
  "cells": [
    {
      "cell_type": "markdown",
      "metadata": {
        "id": "view-in-github",
        "colab_type": "text"
      },
      "source": [
        "<a href=\"https://colab.research.google.com/github/IyanuSh/Python-Project/blob/master/Indian_Headlines_Clustering.ipynb\" target=\"_parent\"><img src=\"https://colab.research.google.com/assets/colab-badge.svg\" alt=\"Open In Colab\"/></a>"
      ]
    },
    {
      "cell_type": "code",
      "metadata": {
        "colab": {
          "resources": {
            "http://localhost:8080/nbextensions/google.colab/files.js": {
              "data": "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",
              "headers": [
                [
                  "content-type",
                  "application/javascript"
                ]
              ],
              "ok": true,
              "status": 200,
              "status_text": ""
            }
          },
          "base_uri": "https://localhost:8080/",
          "height": 342
        },
        "id": "NFV8t6NlHesd",
        "outputId": "9a62d4f4-6734-40fc-9648-f081912deadb"
      },
      "source": [
        "from google.colab import files\n",
        "uploaded = files.upload()"
      ],
      "execution_count": null,
      "outputs": [
        {
          "data": {
            "text/html": [
              "\n",
              "     <input type=\"file\" id=\"files-e436c86e-21ed-4f74-b07c-6e6d80d477ba\" name=\"files[]\" multiple disabled\n",
              "        style=\"border:none\" />\n",
              "     <output id=\"result-e436c86e-21ed-4f74-b07c-6e6d80d477ba\">\n",
              "      Upload widget is only available when the cell has been executed in the\n",
              "      current browser session. Please rerun this cell to enable.\n",
              "      </output>\n",
              "      <script src=\"/nbextensions/google.colab/files.js\"></script> "
            ],
            "text/plain": [
              "<IPython.core.display.HTML object>"
            ]
          },
          "metadata": {},
          "output_type": "display_data"
        },
        {
          "ename": "KeyboardInterrupt",
          "evalue": "ignored",
          "output_type": "error",
          "traceback": [
            "\u001b[0;31m---------------------------------------------------------------------------\u001b[0m",
            "\u001b[0;31mKeyboardInterrupt\u001b[0m                         Traceback (most recent call last)",
            "\u001b[0;32m<ipython-input-26-21dc3c638f66>\u001b[0m in \u001b[0;36m<module>\u001b[0;34m()\u001b[0m\n\u001b[1;32m      1\u001b[0m \u001b[0;32mfrom\u001b[0m \u001b[0mgoogle\u001b[0m\u001b[0;34m.\u001b[0m\u001b[0mcolab\u001b[0m \u001b[0;32mimport\u001b[0m \u001b[0mfiles\u001b[0m\u001b[0;34m\u001b[0m\u001b[0;34m\u001b[0m\u001b[0m\n\u001b[0;32m----> 2\u001b[0;31m \u001b[0muploaded\u001b[0m \u001b[0;34m=\u001b[0m \u001b[0mfiles\u001b[0m\u001b[0;34m.\u001b[0m\u001b[0mupload\u001b[0m\u001b[0;34m(\u001b[0m\u001b[0;34m)\u001b[0m\u001b[0;34m\u001b[0m\u001b[0;34m\u001b[0m\u001b[0m\n\u001b[0m",
            "\u001b[0;32m/usr/local/lib/python3.7/dist-packages/google/colab/files.py\u001b[0m in \u001b[0;36mupload\u001b[0;34m()\u001b[0m\n\u001b[1;32m     62\u001b[0m   result = _output.eval_js(\n\u001b[1;32m     63\u001b[0m       'google.colab._files._uploadFiles(\"{input_id}\", \"{output_id}\")'.format(\n\u001b[0;32m---> 64\u001b[0;31m           input_id=input_id, output_id=output_id))\n\u001b[0m\u001b[1;32m     65\u001b[0m   \u001b[0mfiles\u001b[0m \u001b[0;34m=\u001b[0m \u001b[0m_collections\u001b[0m\u001b[0;34m.\u001b[0m\u001b[0mdefaultdict\u001b[0m\u001b[0;34m(\u001b[0m\u001b[0m_six\u001b[0m\u001b[0;34m.\u001b[0m\u001b[0mbinary_type\u001b[0m\u001b[0;34m)\u001b[0m\u001b[0;34m\u001b[0m\u001b[0;34m\u001b[0m\u001b[0m\n\u001b[1;32m     66\u001b[0m   \u001b[0;31m# Mapping from original filename to filename as saved locally.\u001b[0m\u001b[0;34m\u001b[0m\u001b[0;34m\u001b[0m\u001b[0;34m\u001b[0m\u001b[0m\n",
            "\u001b[0;32m/usr/local/lib/python3.7/dist-packages/google/colab/output/_js.py\u001b[0m in \u001b[0;36meval_js\u001b[0;34m(script, ignore_result, timeout_sec)\u001b[0m\n\u001b[1;32m     38\u001b[0m   \u001b[0;32mif\u001b[0m \u001b[0mignore_result\u001b[0m\u001b[0;34m:\u001b[0m\u001b[0;34m\u001b[0m\u001b[0;34m\u001b[0m\u001b[0m\n\u001b[1;32m     39\u001b[0m     \u001b[0;32mreturn\u001b[0m\u001b[0;34m\u001b[0m\u001b[0;34m\u001b[0m\u001b[0m\n\u001b[0;32m---> 40\u001b[0;31m   \u001b[0;32mreturn\u001b[0m \u001b[0m_message\u001b[0m\u001b[0;34m.\u001b[0m\u001b[0mread_reply_from_input\u001b[0m\u001b[0;34m(\u001b[0m\u001b[0mrequest_id\u001b[0m\u001b[0;34m,\u001b[0m \u001b[0mtimeout_sec\u001b[0m\u001b[0;34m)\u001b[0m\u001b[0;34m\u001b[0m\u001b[0;34m\u001b[0m\u001b[0m\n\u001b[0m\u001b[1;32m     41\u001b[0m \u001b[0;34m\u001b[0m\u001b[0m\n\u001b[1;32m     42\u001b[0m \u001b[0;34m\u001b[0m\u001b[0m\n",
            "\u001b[0;32m/usr/local/lib/python3.7/dist-packages/google/colab/_message.py\u001b[0m in \u001b[0;36mread_reply_from_input\u001b[0;34m(message_id, timeout_sec)\u001b[0m\n\u001b[1;32m     99\u001b[0m     \u001b[0mreply\u001b[0m \u001b[0;34m=\u001b[0m \u001b[0m_read_next_input_message\u001b[0m\u001b[0;34m(\u001b[0m\u001b[0;34m)\u001b[0m\u001b[0;34m\u001b[0m\u001b[0;34m\u001b[0m\u001b[0m\n\u001b[1;32m    100\u001b[0m     \u001b[0;32mif\u001b[0m \u001b[0mreply\u001b[0m \u001b[0;34m==\u001b[0m \u001b[0m_NOT_READY\u001b[0m \u001b[0;32mor\u001b[0m \u001b[0;32mnot\u001b[0m \u001b[0misinstance\u001b[0m\u001b[0;34m(\u001b[0m\u001b[0mreply\u001b[0m\u001b[0;34m,\u001b[0m \u001b[0mdict\u001b[0m\u001b[0;34m)\u001b[0m\u001b[0;34m:\u001b[0m\u001b[0;34m\u001b[0m\u001b[0;34m\u001b[0m\u001b[0m\n\u001b[0;32m--> 101\u001b[0;31m       \u001b[0mtime\u001b[0m\u001b[0;34m.\u001b[0m\u001b[0msleep\u001b[0m\u001b[0;34m(\u001b[0m\u001b[0;36m0.025\u001b[0m\u001b[0;34m)\u001b[0m\u001b[0;34m\u001b[0m\u001b[0;34m\u001b[0m\u001b[0m\n\u001b[0m\u001b[1;32m    102\u001b[0m       \u001b[0;32mcontinue\u001b[0m\u001b[0;34m\u001b[0m\u001b[0;34m\u001b[0m\u001b[0m\n\u001b[1;32m    103\u001b[0m     if (reply.get('type') == 'colab_reply' and\n",
            "\u001b[0;31mKeyboardInterrupt\u001b[0m: "
          ]
        }
      ]
    },
    {
      "cell_type": "code",
      "metadata": {
        "id": "DOaN-kuxIwbV"
      },
      "source": [
        "import numpy as np\n",
        "import pandas as pd\n",
        "import matplotlib.pyplot as plt\n",
        "plt.style.use(style = 'seaborn')\n",
        "%matplotlib inline"
      ],
      "execution_count": null,
      "outputs": []
    },
    {
      "cell_type": "code",
      "metadata": {
        "id": "kJ_mhawVMSR9"
      },
      "source": [
        "import io\n",
        "df = pd.read_csv(io.BytesIO(uploaded['india-news-headlines.csv']))\n",
        "# Dataset is now stored in a Pandas Dataframe"
      ],
      "execution_count": null,
      "outputs": []
    },
    {
      "cell_type": "code",
      "metadata": {
        "id": "Ai6WxoKaMScM"
      },
      "source": [
        "df.head()"
      ],
      "execution_count": null,
      "outputs": []
    },
    {
      "cell_type": "code",
      "metadata": {
        "id": "xZVc3bVoNUc4"
      },
      "source": [
        "import re\n",
        "import nltk\n",
        "nltk.download('stopwords')"
      ],
      "execution_count": null,
      "outputs": []
    },
    {
      "cell_type": "code",
      "metadata": {
        "id": "9yefdHS7Nfvz"
      },
      "source": [
        "df.info()"
      ],
      "execution_count": null,
      "outputs": []
    },
    {
      "cell_type": "code",
      "metadata": {
        "id": "LuCUJgMZNfzm"
      },
      "source": [
        "from nltk.stem.porter import PorterStemmer\n",
        "from nltk.corpus import stopwords"
      ],
      "execution_count": null,
      "outputs": []
    },
    {
      "cell_type": "code",
      "metadata": {
        "id": "_XFqcT2fNyxy"
      },
      "source": [
        "ps = PorterStemmer()"
      ],
      "execution_count": null,
      "outputs": []
    },
    {
      "cell_type": "code",
      "metadata": {
        "id": "TUkyXWzHNy3l"
      },
      "source": [
        "#Data Processing\n",
        "#removing stopwords\n",
        "stemmed_dataset = []\n",
        "for i in range (0,3424066):\n",
        "  stemmed_array = df['headline_text'][i].split()\n",
        "  stemmed = [ps.stem(word)for word in stemmed_array if not word in set(stopwords.words('english'))]\n",
        "  stemmed = ' '.join(stemmed)\n",
        "  stemmed_dataset.append(stemmed)\n",
        "print(stemmed_dataset[0:5])"
      ],
      "execution_count": null,
      "outputs": []
    },
    {
      "cell_type": "code",
      "metadata": {
        "id": "Wh4WXeTBP1KQ"
      },
      "source": [
        "#creating vectors - tokenization\n",
        "from sklearn.feature_extraction.text import CountVectorizer\n"
      ],
      "execution_count": null,
      "outputs": []
    },
    {
      "cell_type": "code",
      "metadata": {
        "id": "xPNbfJbqP1N0"
      },
      "source": [
        "cv = CountVectorizer()\n",
        "X = cv.fit_transform(stemmed_dataset)"
      ],
      "execution_count": null,
      "outputs": []
    },
    {
      "cell_type": "code",
      "metadata": {
        "id": "ghARkNcAP1RR"
      },
      "source": [
        "from sklearn.cluster import KMeans\n",
        "wcss = []"
      ],
      "execution_count": null,
      "outputs": []
    },
    {
      "cell_type": "code",
      "metadata": {
        "colab": {
          "background_save": true,
          "base_uri": "https://localhost:8080/"
        },
        "id": "yh6-6L6IhH87",
        "outputId": "6626defa-e44a-4412-ee8e-13900ecfa007"
      },
      "source": [
        "for i in range (1,3424066): \n",
        "  kmeans = KMeans(n_clusters = i, init = 'k-means++', max_iter=300, n_init=10,random_state=0, verbose=True)\n",
        "  kmeans.fit(X)\n",
        "  wcss.append(kmeans.inertia_)"
      ],
      "execution_count": null,
      "outputs": [
        {
          "name": "stdout",
          "output_type": "stream",
          "text": [
            "Initialization complete\n",
            "Iteration  0, inertia 47790648.000\n",
            "Iteration  1, inertia 20651925.977\n",
            "Converged at iteration 1: center shift 0.000000e+00 within tolerance 2.995587e-09\n",
            "Initialization complete\n",
            "Iteration  0, inertia 44551138.000\n",
            "Iteration  1, inertia 20651925.977\n",
            "Converged at iteration 1: center shift 0.000000e+00 within tolerance 2.995587e-09\n",
            "Initialization complete\n",
            "Iteration  0, inertia 37674756.000\n",
            "Iteration  1, inertia 20651925.977\n",
            "Converged at iteration 1: center shift 0.000000e+00 within tolerance 2.995587e-09\n",
            "Initialization complete\n",
            "Iteration  0, inertia 41064954.000\n",
            "Iteration  1, inertia 20651925.977\n",
            "Converged at iteration 1: center shift 0.000000e+00 within tolerance 2.995587e-09\n",
            "Initialization complete\n",
            "Iteration  0, inertia 57873766.000\n",
            "Iteration  1, inertia 20651925.977\n",
            "Converged at iteration 1: center shift 0.000000e+00 within tolerance 2.995587e-09\n",
            "Initialization complete\n",
            "Iteration  0, inertia 34330644.000\n",
            "Iteration  1, inertia 20651925.977\n",
            "Converged at iteration 1: center shift 0.000000e+00 within tolerance 2.995587e-09\n",
            "Initialization complete\n",
            "Iteration  0, inertia 37735358.000\n",
            "Iteration  1, inertia 20651925.977\n",
            "Converged at iteration 1: center shift 0.000000e+00 within tolerance 2.995587e-09\n",
            "Initialization complete\n",
            "Iteration  0, inertia 37827206.000\n",
            "Iteration  1, inertia 20651925.977\n",
            "Converged at iteration 1: center shift 0.000000e+00 within tolerance 2.995587e-09\n",
            "Initialization complete\n",
            "Iteration  0, inertia 41105826.000\n",
            "Iteration  1, inertia 20651925.977\n",
            "Converged at iteration 1: center shift 0.000000e+00 within tolerance 2.995587e-09\n",
            "Initialization complete\n",
            "Iteration  0, inertia 44615022.000\n",
            "Iteration  1, inertia 20651925.977\n",
            "Converged at iteration 1: center shift 0.000000e+00 within tolerance 2.995587e-09\n",
            "Initialization complete\n",
            "Iteration  0, inertia 44288145.000\n",
            "Iteration  1, inertia 20613672.800\n",
            "Iteration  2, inertia 20611199.006\n",
            "Iteration  3, inertia 20610668.582\n",
            "Iteration  4, inertia 20609252.652\n",
            "Iteration  5, inertia 20608826.710\n",
            "Iteration  6, inertia 20608826.678\n",
            "Converged at iteration 6: center shift 0.000000e+00 within tolerance 2.995587e-09\n",
            "Initialization complete\n",
            "Iteration  0, inertia 44492734.000\n",
            "Iteration  1, inertia 20644029.345\n",
            "Iteration  2, inertia 20643354.161\n",
            "Iteration  3, inertia 20643351.057\n",
            "Converged at iteration 3: center shift 0.000000e+00 within tolerance 2.995587e-09\n",
            "Initialization complete\n",
            "Iteration  0, inertia 37611667.000\n",
            "Iteration  1, inertia 20606105.949\n",
            "Iteration  2, inertia 20602788.711\n",
            "Converged at iteration 2: center shift 0.000000e+00 within tolerance 2.995587e-09\n",
            "Initialization complete\n",
            "Iteration  0, inertia 40900383.000\n",
            "Iteration  1, inertia 20594018.715\n",
            "Iteration  2, inertia 20590710.011\n",
            "Iteration  3, inertia 20590547.900\n",
            "Iteration  4, inertia 20590547.899\n",
            "Converged at iteration 4: center shift 0.000000e+00 within tolerance 2.995587e-09\n",
            "Initialization complete\n",
            "Iteration  0, inertia 37684430.000\n",
            "Iteration  1, inertia 20633035.294\n",
            "Iteration  2, inertia 20624449.000\n",
            "Iteration  3, inertia 20623976.529\n",
            "Converged at iteration 3: center shift 0.000000e+00 within tolerance 2.995587e-09\n",
            "Initialization complete\n",
            "Iteration  0, inertia 34328273.000\n",
            "Iteration  1, inertia 20598180.007\n",
            "Iteration  2, inertia 20567701.450\n",
            "Iteration  3, inertia 20567701.450\n",
            "Converged at iteration 3: center shift 0.000000e+00 within tolerance 2.995587e-09\n",
            "Initialization complete\n",
            "Iteration  0, inertia 37712362.000\n",
            "Iteration  1, inertia 20644096.111\n",
            "Iteration  2, inertia 20643734.398\n",
            "Iteration  3, inertia 20624023.530\n",
            "Iteration  4, inertia 20573461.754\n",
            "Iteration  5, inertia 20567705.558\n",
            "Iteration  6, inertia 20567701.450\n",
            "Converged at iteration 6: center shift 0.000000e+00 within tolerance 2.995587e-09\n",
            "Initialization complete\n",
            "Iteration  0, inertia 37651428.000\n",
            "Iteration  1, inertia 20626059.016\n",
            "Iteration  2, inertia 20625832.588\n",
            "Iteration  3, inertia 20623974.801\n",
            "Iteration  4, inertia 20623900.825\n",
            "Iteration  5, inertia 20623900.825\n",
            "Converged at iteration 5: center shift 0.000000e+00 within tolerance 2.995587e-09\n",
            "Initialization complete\n",
            "Iteration  0, inertia 41037050.000\n",
            "Iteration  1, inertia 20631658.756\n",
            "Iteration  2, inertia 20630818.481\n",
            "Iteration  3, inertia 20630818.475\n",
            "Converged at iteration 3: center shift 0.000000e+00 within tolerance 2.995587e-09\n",
            "Initialization complete\n",
            "Iteration  0, inertia 44391116.000\n",
            "Iteration  1, inertia 20575284.172\n",
            "Iteration  2, inertia 20563292.743\n",
            "Iteration  3, inertia 20563273.936\n",
            "Converged at iteration 3: center shift 2.441641e-09 within tolerance 2.995587e-09\n",
            "Initialization complete\n",
            "Iteration  0, inertia 34251683.000\n",
            "Iteration  1, inertia 20612330.891\n",
            "Iteration  2, inertia 20561707.950\n",
            "Iteration  3, inertia 20552390.764\n",
            "Iteration  4, inertia 20550461.440\n",
            "Iteration  5, inertia 20548686.830\n",
            "Iteration  6, inertia 20548673.198\n",
            "Iteration  7, inertia 20548673.166\n",
            "Iteration  8, inertia 20548673.158\n",
            "Iteration  9, inertia 20548673.157\n",
            "Converged at iteration 9: center shift 1.158698e-09 within tolerance 2.995587e-09\n",
            "Initialization complete\n",
            "Iteration  0, inertia 41019170.000\n",
            "Iteration  1, inertia 20607303.910\n",
            "Iteration  2, inertia 20606301.270\n",
            "Iteration  3, inertia 20605786.117\n",
            "Iteration  4, inertia 20579851.966\n",
            "Iteration  5, inertia 20541216.085\n",
            "Iteration  6, inertia 20530499.593\n",
            "Iteration  7, inertia 20530452.297\n",
            "Iteration  8, inertia 20530452.296\n",
            "Converged at iteration 8: center shift 0.000000e+00 within tolerance 2.995587e-09\n",
            "Initialization complete\n",
            "Iteration  0, inertia 34275568.000\n",
            "Iteration  1, inertia 20564958.299\n",
            "Iteration  2, inertia 20560658.246\n",
            "Iteration  3, inertia 20560658.244\n",
            "Converged at iteration 3: center shift 0.000000e+00 within tolerance 2.995587e-09\n",
            "Initialization complete\n",
            "Iteration  0, inertia 30976153.000\n",
            "Iteration  1, inertia 20592990.086\n",
            "Iteration  2, inertia 20530432.691\n",
            "Iteration  3, inertia 20519774.573\n",
            "Iteration  4, inertia 20518937.312\n",
            "Iteration  5, inertia 20518932.821\n",
            "Converged at iteration 5: center shift 2.485039e-09 within tolerance 2.995587e-09\n",
            "Initialization complete\n",
            "Iteration  0, inertia 37683381.000\n",
            "Iteration  1, inertia 20618856.845\n",
            "Iteration  2, inertia 20593454.825\n",
            "Iteration  3, inertia 20590930.135\n",
            "Iteration  4, inertia 20590929.809\n",
            "Iteration  5, inertia 20590929.779\n",
            "Iteration  6, inertia 20590929.754\n",
            "Iteration  7, inertia 20590929.746\n",
            "Iteration  8, inertia 20590929.743\n",
            "Iteration  9, inertia 20590929.742\n",
            "Iteration 10, inertia 20590929.742\n",
            "Converged at iteration 10: center shift 0.000000e+00 within tolerance 2.995587e-09\n",
            "Initialization complete\n",
            "Iteration  0, inertia 34212515.000\n",
            "Iteration  1, inertia 20558250.200\n",
            "Iteration  2, inertia 20526598.241\n",
            "Iteration  3, inertia 20522917.149\n",
            "Iteration  4, inertia 20521784.995\n",
            "Iteration  5, inertia 20521784.993\n",
            "Converged at iteration 5: center shift 0.000000e+00 within tolerance 2.995587e-09\n",
            "Initialization complete\n",
            "Iteration  0, inertia 37636230.000\n",
            "Iteration  1, inertia 20626753.731\n",
            "Iteration  2, inertia 20624747.104\n",
            "Iteration  3, inertia 20624470.341\n",
            "Iteration  4, inertia 20622775.194\n",
            "Iteration  5, inertia 20622556.627\n",
            "Iteration  6, inertia 20622556.626\n",
            "Converged at iteration 6: center shift 0.000000e+00 within tolerance 2.995587e-09\n",
            "Initialization complete\n",
            "Iteration  0, inertia 37631970.000\n",
            "Iteration  1, inertia 20619266.759\n",
            "Iteration  2, inertia 20618196.025\n",
            "Iteration  3, inertia 20616335.011\n",
            "Iteration  4, inertia 20616270.354\n",
            "Iteration  5, inertia 20616270.347\n",
            "Iteration  6, inertia 20616270.347\n",
            "Converged at iteration 6: center shift 0.000000e+00 within tolerance 2.995587e-09\n",
            "Initialization complete\n",
            "Iteration  0, inertia 34323148.000\n",
            "Iteration  1, inertia 20606825.641\n",
            "Iteration  2, inertia 20596426.002\n",
            "Iteration  3, inertia 20591091.833\n",
            "Iteration  4, inertia 20588800.640\n",
            "Iteration  5, inertia 20588799.851\n",
            "Iteration  6, inertia 20588799.753\n",
            "Iteration  7, inertia 20588799.688\n",
            "Iteration  8, inertia 20588799.674\n",
            "Iteration  9, inertia 20588799.670\n",
            "Iteration 10, inertia 20588799.667\n",
            "Iteration 11, inertia 20588799.657\n",
            "Iteration 12, inertia 20588799.656\n",
            "Iteration 13, inertia 20588799.656\n",
            "Converged at iteration 13: center shift 0.000000e+00 within tolerance 2.995587e-09\n",
            "Initialization complete\n",
            "Iteration  0, inertia 27516912.000\n",
            "Iteration  1, inertia 20643315.407\n",
            "Iteration  2, inertia 20591971.852\n",
            "Iteration  3, inertia 20576930.758\n",
            "Iteration  4, inertia 20576930.034\n",
            "Iteration  5, inertia 20576930.033\n",
            "Converged at iteration 5: center shift 0.000000e+00 within tolerance 2.995587e-09\n",
            "Initialization complete\n",
            "Iteration  0, inertia 27547494.000\n",
            "Iteration  1, inertia 20600964.443\n",
            "Iteration  2, inertia 20596404.266\n",
            "Iteration  3, inertia 20570017.733\n",
            "Iteration  4, inertia 20541623.379\n",
            "Iteration  5, inertia 20533456.654\n",
            "Iteration  6, inertia 20532426.878\n"
          ]
        }
      ]
    },
    {
      "cell_type": "code",
      "metadata": {
        "id": "Hmfy9kUbhICa"
      },
      "source": [
        "#Plot Visualization\n",
        "plt.plot(range(1,3424066), wcss)\n",
        "plt.title('The elbow method')\n",
        "plt.xlabel('no of clusters')\n",
        "plt.ylabel('wcss')\n",
        "plt.show()"
      ],
      "execution_count": null,
      "outputs": []
    },
    {
      "cell_type": "code",
      "metadata": {
        "id": "Jdqsqri-jg4K"
      },
      "source": [
        "#Applying Kmeans\n",
        "true_k = 10\n",
        "model = KMeans(n_clusters = true_k, init='k-means++', n_init =1)\n",
        "model.fit(X)"
      ],
      "execution_count": null,
      "outputs": []
    },
    {
      "cell_type": "code",
      "metadata": {
        "id": "vMVNR60fjg8j"
      },
      "source": [
        "print(\"Top terms per cluster:\")\n",
        "order_centroids = model.cluster_centers_.argsort()[:,::-1]\n",
        "terms = cv.get_feature_names()\n",
        "for i in range(true_k):\n",
        "  print(\"Cluster %d:\" % i),\n",
        "  for ind in order_centroids[i,:10]:\n",
        "      print(' %s' % terms[ind]),\n",
        "  print\n",
        "\n",
        "print(\"\\n\")"
      ],
      "execution_count": null,
      "outputs": []
    }
  ]
}